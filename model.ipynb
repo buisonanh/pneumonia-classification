{
 "cells": [
  {
   "cell_type": "code",
   "execution_count": 12,
   "metadata": {},
   "outputs": [
    {
     "name": "stderr",
     "output_type": "stream",
     "text": [
      "c:\\Users\\PC\\AppData\\Local\\Programs\\Python\\Python311\\Lib\\site-packages\\tqdm\\auto.py:21: TqdmWarning: IProgress not found. Please update jupyter and ipywidgets. See https://ipywidgets.readthedocs.io/en/stable/user_install.html\n",
      "  from .autonotebook import tqdm as notebook_tqdm\n"
     ]
    }
   ],
   "source": [
    "import numpy as np\n",
    "import tensorflow as tf\n",
    "from tensorflow.keras.models import Sequential\n",
    "from tensorflow.keras.layers import Dense\n",
    "from tensorflow.keras.activations import linear, relu, sigmoid\n",
    "\n",
    "from datasets import load_dataset\n",
    "\n",
    "import matplotlib.pyplot as plt\n",
    "\n",
    "import logging\n",
    "logging.getLogger(\"tensorflow\").setLevel(logging.ERROR)\n",
    "tf.autograph.set_verbosity(0)\n",
    "\n",
    "np.set_printoptions(precision=2)"
   ]
  },
  {
   "cell_type": "markdown",
   "metadata": {},
   "source": [
    "# **Softmax**"
   ]
  },
  {
   "cell_type": "code",
   "execution_count": 5,
   "metadata": {},
   "outputs": [],
   "source": [
    "def my_softmax(z):\n",
    "    ez = np.exp(z)\n",
    "    a = ez/np.sum(ez)\n",
    "    return a"
   ]
  },
  {
   "cell_type": "code",
   "execution_count": 7,
   "metadata": {},
   "outputs": [
    {
     "name": "stdout",
     "output_type": "stream",
     "text": [
      "my_softmax(z):         [0.03 0.09 0.24 0.64]\n",
      "tensorflow softmax(z): [0.03 0.09 0.24 0.64]\n"
     ]
    }
   ],
   "source": [
    "z = np.array([1., 2., 3., 4.])\n",
    "a = my_softmax(z)\n",
    "atf = tf.nn.softmax(z)\n",
    "print(f\"my_softmax(z):         {a}\")\n",
    "print(f\"tensorflow softmax(z): {atf}\")"
   ]
  },
  {
   "cell_type": "markdown",
   "metadata": {},
   "source": [
    "# **Load Dataset**"
   ]
  },
  {
   "cell_type": "code",
   "execution_count": 13,
   "metadata": {},
   "outputs": [
    {
     "name": "stderr",
     "output_type": "stream",
     "text": [
      "Downloading builder script: 100%|██████████| 3.89k/3.89k [00:00<00:00, 2.86MB/s]\n",
      "Downloading readme: 100%|██████████| 1.33k/1.33k [00:00<?, ?B/s]\n",
      "Downloading data: 100%|██████████| 142M/142M [00:17<00:00, 8.21MB/s]\n",
      "Downloading data: 100%|██████████| 40.7M/40.7M [00:06<00:00, 6.18MB/s]\n",
      "Downloading data: 100%|██████████| 20.4M/20.4M [00:03<00:00, 6.10MB/s]\n",
      "Downloading data files: 100%|██████████| 3/3 [00:36<00:00, 12.25s/it]\n",
      "Extracting data files: 100%|██████████| 3/3 [00:20<00:00,  6.70s/it]\n",
      "Generating train split: 4077 examples [00:00, 6187.08 examples/s]\n",
      "Generating validation split: 1165 examples [00:00, 6726.14 examples/s]\n",
      "Generating test split: 582 examples [00:00, 6008.01 examples/s]\n"
     ]
    }
   ],
   "source": [
    "ds = load_dataset(\"keremberke/chest-xray-classification\", name=\"full\")"
   ]
  },
  {
   "cell_type": "code",
   "execution_count": 19,
   "metadata": {},
   "outputs": [],
   "source": [
    "X = ds['train']\n",
    "y = ds['validation']"
   ]
  },
  {
   "cell_type": "code",
   "execution_count": 29,
   "metadata": {},
   "outputs": [
    {
     "name": "stdout",
     "output_type": "stream",
     "text": [
      "DatasetDict({\n",
      "    train: Dataset({\n",
      "        features: ['image_file_path', 'image', 'labels'],\n",
      "        num_rows: 4077\n",
      "    })\n",
      "    validation: Dataset({\n",
      "        features: ['image_file_path', 'image', 'labels'],\n",
      "        num_rows: 1165\n",
      "    })\n",
      "    test: Dataset({\n",
      "        features: ['image_file_path', 'image', 'labels'],\n",
      "        num_rows: 582\n",
      "    })\n",
      "})\n"
     ]
    }
   ],
   "source": [
    "print(ds)"
   ]
  },
  {
   "cell_type": "markdown",
   "metadata": {},
   "source": [
    "# **Preprocess Data**"
   ]
  },
  {
   "cell_type": "code",
   "execution_count": 36,
   "metadata": {},
   "outputs": [],
   "source": [
    "from PIL import Image\n",
    "import numpy as np\n",
    "\n",
    "# Define a function to resize, convert to grayscale, and flatten an image\n",
    "def preprocess_image(image_path):\n",
    "    # Open and resize the image to 20x20 pixels\n",
    "    image = Image.open(image_path).resize((20, 20))\n",
    "    # Convert to grayscale\n",
    "    image = image.convert('L')\n",
    "    # Flatten the image into a 400-dimensional vector\n",
    "    image_array = np.array(image).flatten()\n",
    "    return image_array\n",
    "\n",
    "# Create empty arrays to store the data and labels\n",
    "X_train = np.empty((4077, 400), dtype=np.float32)\n",
    "X_validation = np.empty((1165, 400), dtype=np.float32)\n",
    "X_test = np.empty((582, 400), dtype=np.float32)\n",
    "\n",
    "y_train = np.empty((4077,), dtype=np.int32)\n",
    "y_validation = np.empty((1165,), dtype=np.int32)\n",
    "y_test = np.empty((582,), dtype=np.int32)\n",
    "\n",
    "# Iterate through your dataset, preprocess each image, and extract labels\n",
    "for i, example in enumerate(ds['train']):\n",
    "    image_path = example['image_file_path']\n",
    "    image_array = preprocess_image(image_path)\n",
    "    X_train[i] = image_array\n",
    "    y_train[i] = example['labels']\n",
    "\n",
    "for i, example in enumerate(ds['validation']):\n",
    "    image_path = example['image_file_path']\n",
    "    image_array = preprocess_image(image_path)\n",
    "    X_validation[i] = image_array\n",
    "    y_validation[i] = example['labels']\n",
    "\n",
    "for i, example in enumerate(ds['test']):\n",
    "    image_path = example['image_file_path']\n",
    "    image_array = preprocess_image(image_path)\n",
    "    X_test[i] = image_array\n",
    "    y_test[i] = example['labels']\n",
    "\n",
    "# Now, X_train, X_validation, and X_test contain the flattened 400-dimensional vectors of your images,\n",
    "# and y_train, y_validation, and y_test contain the corresponding labels.\n"
   ]
  },
  {
   "cell_type": "code",
   "execution_count": 37,
   "metadata": {},
   "outputs": [
    {
     "data": {
      "text/plain": [
       "array([ 57., 142., 183., 172., 180., 185., 183., 192., 187., 184., 178.,\n",
       "       184., 188., 188., 184., 187., 171., 176., 170., 125.,  42., 132.,\n",
       "       173., 169., 188., 197., 207., 189., 179., 191., 192., 197., 176.,\n",
       "       198., 199., 194., 178., 174., 167., 119.,  30., 106., 161., 186.,\n",
       "       199., 210., 180., 144., 146., 191., 208., 173., 128., 164., 198.,\n",
       "       199., 191., 172., 150.,  93.,  35.,  74., 150., 191., 216., 182.,\n",
       "       126., 119., 137., 194., 217., 158., 123., 123., 158., 207., 207.,\n",
       "       168., 130.,  59.,  70.,  59., 138., 188., 217., 151., 120., 109.,\n",
       "       109., 174., 222., 146., 111., 112., 124., 179., 212., 156., 107.,\n",
       "        43.,  34.,  55., 133., 193., 193., 145., 129., 116., 115., 172.,\n",
       "       228., 155., 108., 114., 131., 170., 204., 154.,  94.,  37.,  32.,\n",
       "        53., 131., 200., 173., 136., 125., 124., 133., 190., 230., 171.,\n",
       "       115., 126., 125., 138., 194., 160.,  87.,  34.,  33.,  52., 132.,\n",
       "       196., 162., 146., 123., 120., 135., 195., 230., 198., 128., 113.,\n",
       "       122., 142., 191., 163.,  79.,  32.,  34.,  50., 138., 195., 143.,\n",
       "       134., 115., 108., 147., 204., 231., 201., 147., 126., 124., 134.,\n",
       "       170., 166.,  73.,  31.,  35.,  47., 146., 187., 145., 122., 109.,\n",
       "       128., 164., 204., 233., 203., 158., 117., 108., 127., 173., 168.,\n",
       "        68.,  31.,  36.,  45., 155., 172., 123., 122., 116., 137., 171.,\n",
       "       201., 235., 206., 168., 111., 106., 116., 151., 171.,  62.,  30.,\n",
       "        37.,  44., 155., 170., 108., 103., 112., 122., 178., 210., 233.,\n",
       "       213., 193., 132.,  97., 102., 145., 170.,  56.,  31.,  38.,  41.,\n",
       "       148., 147., 114., 111., 110., 119., 175., 208., 233., 210., 194.,\n",
       "       160., 101.,  94., 129., 164.,  49.,  32.,  38.,  40., 145., 136.,\n",
       "        91.,  98., 103., 112., 159., 202., 233., 209., 195., 168.,  93.,\n",
       "        96., 125., 150.,  43.,  33.,  38.,  38., 135., 121., 102., 124.,\n",
       "       145., 151., 173., 195., 226., 205., 180., 160., 104.,  94., 106.,\n",
       "       149.,  40.,  33.,  39.,  35., 126., 123., 157., 192., 206., 201.,\n",
       "       184., 191., 220., 191., 162., 143.,  92.,  92., 110., 136.,  36.,\n",
       "        32.,  39.,  33., 113., 153., 199., 209., 205., 198., 184., 201.,\n",
       "       226., 197., 174., 163., 141., 101., 110., 126.,  31.,  32.,  39.,\n",
       "        32., 110., 191., 205., 207., 210., 200., 183., 212., 229., 201.,\n",
       "       165., 137., 129., 133., 105., 114.,  27.,  32.,  39.,  31., 112.,\n",
       "       198., 205., 214., 213., 206., 199., 218., 224., 200., 204., 211.,\n",
       "       202., 194., 151., 101.,  25.,  32.,  39.,  31., 110., 195., 212.,\n",
       "       213., 213., 212., 203., 221., 222., 210., 209., 216., 215., 203.,\n",
       "       186.,  97.,  24.,  32.], dtype=float32)"
      ]
     },
     "execution_count": 37,
     "metadata": {},
     "output_type": "execute_result"
    }
   ],
   "source": [
    "X_train[0]"
   ]
  },
  {
   "cell_type": "code",
   "execution_count": 38,
   "metadata": {},
   "outputs": [
    {
     "data": {
      "text/plain": [
       "array([0, 0, 0, ..., 1, 1, 1])"
      ]
     },
     "execution_count": 38,
     "metadata": {},
     "output_type": "execute_result"
    }
   ],
   "source": [
    "y_train"
   ]
  },
  {
   "cell_type": "code",
   "execution_count": 56,
   "metadata": {},
   "outputs": [
    {
     "data": {
      "image/png": "[encoded data removed]",
      "text/plain": [
       "<Figure size 2000x200 with 20 Axes>"
      ]
     },
     "metadata": {},
     "output_type": "display_data"
    }
   ],
   "source": [
    "import random\n",
    "\n",
    "# Define a function to visualize a random subset of the data\n",
    "def visualize_random_data(images, labels, num_samples):\n",
    "    num_total_samples = len(images)\n",
    "    random_indices = random.sample(range(num_total_samples), num_samples)\n",
    "\n",
    "    fig, axes = plt.subplots(1, num_samples, figsize=(20, 2))\n",
    "    for i, idx in enumerate(random_indices):\n",
    "        ax = axes[i]\n",
    "        ax.imshow(images[idx].reshape(20, 20), cmap='gray')\n",
    "        ax.set_title(f\"Label: {labels[idx]}\")\n",
    "        ax.axis('off')\n",
    "    plt.show()\n",
    "\n",
    "# Visualize a random subset of your training data\n",
    "num_samples_to_visualize = 20\n",
    "visualize_random_data(X_train, y_train, num_samples_to_visualize)\n"
   ]
  },
  {
   "cell_type": "markdown",
   "metadata": {},
   "source": [
    "# **Neural Networks**"
   ]
  },
  {
   "cell_type": "code",
   "execution_count": 59,
   "metadata": {},
   "outputs": [],
   "source": [
    "tf.random.set_seed(1234)\n",
    "model = Sequential(\n",
    "    [\n",
    "        tf.keras.Input(shape=(400,)),\n",
    "        Dense(25, activation='relu', name='L1'),\n",
    "        Dense(15, activation='relu', name='L2'),\n",
    "        Dense(10, activation='linear', name='L3')\n",
    "    ], name = \"my_model\"\n",
    ")"
   ]
  },
  {
   "cell_type": "code",
   "execution_count": 60,
   "metadata": {},
   "outputs": [
    {
     "name": "stdout",
     "output_type": "stream",
     "text": [
      "Model: \"my_model\"\n",
      "_________________________________________________________________\n",
      " Layer (type)                Output Shape              Param #   \n",
      "=================================================================\n",
      " L1 (Dense)                  (None, 25)                10025     \n",
      "                                                                 \n",
      " L2 (Dense)                  (None, 15)                390       \n",
      "                                                                 \n",
      " L3 (Dense)                  (None, 10)                160       \n",
      "                                                                 \n",
      "=================================================================\n",
      "Total params: 10575 (41.31 KB)\n",
      "Trainable params: 10575 (41.31 KB)\n",
      "Non-trainable params: 0 (0.00 Byte)\n",
      "_________________________________________________________________\n"
     ]
    }
   ],
   "source": [
    "model.summary()"
   ]
  },
  {
   "cell_type": "code",
   "execution_count": 61,
   "metadata": {},
   "outputs": [],
   "source": [
    "[layer1, layer2, layer3] = model.layers"
   ]
  },
  {
   "cell_type": "code",
   "execution_count": 62,
   "metadata": {},
   "outputs": [
    {
     "name": "stdout",
     "output_type": "stream",
     "text": [
      "W1 shape = (400, 25), b1 shape = (25,)\n",
      "W2 shape = (25, 15), b2 shape = (15,)\n",
      "W3 shape = (15, 10), b3 shape = (10,)\n"
     ]
    }
   ],
   "source": [
    "#### Examine Weights shapes\n",
    "W1,b1 = layer1.get_weights()\n",
    "W2,b2 = layer2.get_weights()\n",
    "W3,b3 = layer3.get_weights()\n",
    "print(f\"W1 shape = {W1.shape}, b1 shape = {b1.shape}\")\n",
    "print(f\"W2 shape = {W2.shape}, b2 shape = {b2.shape}\")\n",
    "print(f\"W3 shape = {W3.shape}, b3 shape = {b3.shape}\")"
   ]
  },
  {
   "cell_type": "code",
   "execution_count": 65,
   "metadata": {},
   "outputs": [
    {
     "name": "stdout",
     "output_type": "stream",
     "text": [
      "Epoch 1/40\n"
     ]
    },
    {
     "name": "stdout",
     "output_type": "stream",
     "text": [
      "128/128 [==============================] - 1s 3ms/step - loss: 0.2137\n",
      "Epoch 2/40\n",
      "128/128 [==============================] - 0s 3ms/step - loss: 0.2222\n",
      "Epoch 3/40\n",
      "128/128 [==============================] - 0s 3ms/step - loss: 0.1708\n",
      "Epoch 4/40\n",
      "128/128 [==============================] - 0s 2ms/step - loss: 0.1659\n",
      "Epoch 5/40\n",
      "128/128 [==============================] - 0s 3ms/step - loss: 0.3014\n",
      "Epoch 6/40\n",
      "128/128 [==============================] - 0s 2ms/step - loss: 0.1882\n",
      "Epoch 7/40\n",
      "128/128 [==============================] - 0s 3ms/step - loss: 0.2104\n",
      "Epoch 8/40\n",
      "128/128 [==============================] - 0s 3ms/step - loss: 0.1886\n",
      "Epoch 9/40\n",
      "128/128 [==============================] - 0s 3ms/step - loss: 0.1992\n",
      "Epoch 10/40\n",
      "128/128 [==============================] - 0s 2ms/step - loss: 0.1954\n",
      "Epoch 11/40\n",
      "128/128 [==============================] - 0s 2ms/step - loss: 0.1703\n",
      "Epoch 12/40\n",
      "128/128 [==============================] - 0s 2ms/step - loss: 0.2009\n",
      "Epoch 13/40\n",
      "128/128 [==============================] - 0s 2ms/step - loss: 0.1771\n",
      "Epoch 14/40\n",
      "128/128 [==============================] - 0s 4ms/step - loss: 0.1860\n",
      "Epoch 15/40\n",
      "128/128 [==============================] - 0s 2ms/step - loss: 0.1888\n",
      "Epoch 16/40\n",
      "128/128 [==============================] - 0s 2ms/step - loss: 0.1794\n",
      "Epoch 17/40\n",
      "128/128 [==============================] - 0s 2ms/step - loss: 0.2049\n",
      "Epoch 18/40\n",
      "128/128 [==============================] - 0s 2ms/step - loss: 0.2074\n",
      "Epoch 19/40\n",
      "128/128 [==============================] - 0s 2ms/step - loss: 0.2003\n",
      "Epoch 20/40\n",
      "128/128 [==============================] - 0s 3ms/step - loss: 0.1722\n",
      "Epoch 21/40\n",
      "128/128 [==============================] - 0s 2ms/step - loss: 0.1818\n",
      "Epoch 22/40\n",
      "128/128 [==============================] - 0s 2ms/step - loss: 0.1780\n",
      "Epoch 23/40\n",
      "128/128 [==============================] - 0s 2ms/step - loss: 0.1737\n",
      "Epoch 24/40\n",
      "128/128 [==============================] - 0s 3ms/step - loss: 0.1845\n",
      "Epoch 25/40\n",
      "128/128 [==============================] - 0s 3ms/step - loss: 0.1779\n",
      "Epoch 26/40\n",
      "128/128 [==============================] - 0s 3ms/step - loss: 0.1845\n",
      "Epoch 27/40\n",
      "128/128 [==============================] - 0s 2ms/step - loss: 0.1838\n",
      "Epoch 28/40\n",
      "128/128 [==============================] - 0s 2ms/step - loss: 0.1715\n",
      "Epoch 29/40\n",
      "128/128 [==============================] - 0s 2ms/step - loss: 0.1843\n",
      "Epoch 30/40\n",
      "128/128 [==============================] - 0s 2ms/step - loss: 0.1840\n",
      "Epoch 31/40\n",
      "128/128 [==============================] - 0s 2ms/step - loss: 0.1759\n",
      "Epoch 32/40\n",
      "128/128 [==============================] - 0s 2ms/step - loss: 0.1602\n",
      "Epoch 33/40\n",
      "128/128 [==============================] - 0s 2ms/step - loss: 0.1694\n",
      "Epoch 34/40\n",
      "128/128 [==============================] - 0s 2ms/step - loss: 0.1703\n",
      "Epoch 35/40\n",
      "128/128 [==============================] - 0s 2ms/step - loss: 0.1847\n",
      "Epoch 36/40\n",
      "128/128 [==============================] - 0s 2ms/step - loss: 0.1973\n",
      "Epoch 37/40\n",
      "128/128 [==============================] - 0s 2ms/step - loss: 0.1747\n",
      "Epoch 38/40\n",
      "128/128 [==============================] - 0s 2ms/step - loss: 0.2077\n",
      "Epoch 39/40\n",
      "128/128 [==============================] - 0s 2ms/step - loss: 0.1878\n",
      "Epoch 40/40\n",
      "128/128 [==============================] - 0s 3ms/step - loss: 0.1756\n"
     ]
    }
   ],
   "source": [
    "model.compile(\n",
    "    loss=tf.keras.losses.SparseCategoricalCrossentropy(from_logits=True),\n",
    "    optimizer=tf.keras.optimizers.Adam(learning_rate=0.001),\n",
    ")\n",
    "\n",
    "history = model.fit(\n",
    "    X_train,y_train,\n",
    "    epochs=40\n",
    ")"
   ]
  }
 ],
 "metadata": {
  "kernelspec": {
   "display_name": "Python 3",
   "language": "python",
   "name": "python3"
  },
  "language_info": {
   "codemirror_mode": {
    "name": "ipython",
    "version": 3
   },
   "file_extension": ".py",
   "mimetype": "text/x-python",
   "name": "python",
   "nbconvert_exporter": "python",
   "pygments_lexer": "ipython3",
   "version": "3.11.4"
  },
  "orig_nbformat": 4
 },
 "nbformat": 4,
 "nbformat_minor": 2
}
